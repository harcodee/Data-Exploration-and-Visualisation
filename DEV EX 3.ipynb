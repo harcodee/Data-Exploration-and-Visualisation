{
 "cells": [
  {
   "cell_type": "code",
   "execution_count": 2,
   "id": "987c4665-f868-44d0-9799-64750a2df531",
   "metadata": {},
   "outputs": [
    {
     "name": "stdout",
     "output_type": "stream",
     "text": [
      "Array is of type: <class 'numpy.ndarray'>\n",
      "No of dimensions: 2\n",
      "Shape of array: (2, 3)\n",
      "Size of array: 6\n",
      "Array stores elements of type: int32\n"
     ]
    }
   ],
   "source": [
    "# Basic Numpy Array Info\n",
    "import numpy as np\n",
    "\n",
    "arr = np.array([[1, 2, 3], [4, 2, 5]])\n",
    "print(\"Array is of type:\", type(arr))\n",
    "print(\"No of dimensions:\", arr.ndim)\n",
    "print(\"Shape of array:\", arr.shape)\n",
    "print(\"Size of array:\", arr.size)\n",
    "print(\"Array stores elements of type:\", arr.dtype)\n"
   ]
  },
  {
   "cell_type": "code",
   "execution_count": 3,
   "id": "bf4bb1c6-c3a6-46bc-9dfb-f48df88c8874",
   "metadata": {},
   "outputs": [
    {
     "name": "stdout",
     "output_type": "stream",
     "text": [
      "[[1 2 3]\n",
      " [3 4 5]\n",
      " [4 5 6]]\n",
      "After Slicing:\n",
      "[[3 4 5]\n",
      " [4 5 6]]\n"
     ]
    }
   ],
   "source": [
    "# Slicing Example\n",
    "import numpy as np\n",
    "\n",
    "a = np.array([[1, 2, 3], [3, 4, 5], [4, 5, 6]])\n",
    "print(a)\n",
    "print(\"After Slicing:\")\n",
    "print(a[1:])\n"
   ]
  },
  {
   "cell_type": "code",
   "execution_count": 4,
   "id": "d983d9c7-4d99-4eb1-b4af-cc6d7c108778",
   "metadata": {},
   "outputs": [
    {
     "name": "stdout",
     "output_type": "stream",
     "text": [
      "Our array is:\n",
      "[[1 2 3]\n",
      " [3 4 5]\n",
      " [4 5 6]]\n",
      "The items in the second column are:\n",
      "[2 4 5]\n",
      "\n",
      "The items in the second row are:\n",
      "[3 4 5]\n",
      "\n",
      "The items column 1 onwards are:\n",
      "[2 4 5]\n"
     ]
    }
   ],
   "source": [
    "# Advanced Indexing Example\n",
    "import numpy as np\n",
    "\n",
    "a = np.array([[1, 2, 3], [3, 4, 5], [4, 5, 6]])\n",
    "print('Our array is:')\n",
    "print(a)\n",
    "\n",
    "print('The items in the second column are:')\n",
    "print(a[..., 1])  # all rows, column index 1\n",
    "\n",
    "print('\\nThe items in the second row are:')\n",
    "print(a[1, ...])  # row index 1, all columns\n",
    "\n",
    "print('\\nThe items column 1 onwards are:')\n",
    "print(a[..., 1])  # same as second column\n"
   ]
  },
  {
   "cell_type": "code",
   "execution_count": 7,
   "id": "614c6070-a96d-46e0-a0ae-c219258ee510",
   "metadata": {},
   "outputs": [
    {
     "name": "stdout",
     "output_type": "stream",
     "text": [
      "      Col1  Col2\n",
      "Row1     1     2\n",
      "Row2     3     4\n"
     ]
    }
   ],
   "source": [
    "import numpy as np\n",
    "import pandas as pd\n",
    "\n",
    "# Fixing the data structure\n",
    "data = [\n",
    "    ['Row1', 1, 2],\n",
    "    ['Row2', 3, 4]\n",
    "]\n",
    "\n",
    "columns = ['Col1', 'Col2']\n",
    "index = [row[0] for row in data]\n",
    "values = [row[1:] for row in data]\n",
    "\n",
    "df = pd.DataFrame(data=values, index=index, columns=columns)\n",
    "print(df)\n"
   ]
  },
  {
   "cell_type": "code",
   "execution_count": 8,
   "id": "54c432de-0d79-41ea-97e6-97f542c35edd",
   "metadata": {},
   "outputs": [
    {
     "name": "stdout",
     "output_type": "stream",
     "text": [
      "   0  1  2\n",
      "0  1  2  3\n",
      "1  4  5  6\n"
     ]
    }
   ],
   "source": [
    "# DataFrame from 2D array\n",
    "my_2darray = np.array([[1, 2, 3], [4, 5, 6]])\n",
    "print(pd.DataFrame(my_2darray))\n"
   ]
  },
  {
   "cell_type": "code",
   "execution_count": 9,
   "id": "4eeb74f9-b32f-47c7-8414-d9d417a18859",
   "metadata": {},
   "outputs": [
    {
     "name": "stdout",
     "output_type": "stream",
     "text": [
      "   1  2  3\n",
      "0  1  1  2\n",
      "1  3  2  4\n"
     ]
    }
   ],
   "source": [
    "# DataFrame from dictionary\n",
    "my_dict = {1: ['1', '3'], 2: ['1', '2'], 3: ['2', '4']}\n",
    "print(pd.DataFrame(my_dict))\n"
   ]
  },
  {
   "cell_type": "code",
   "execution_count": 10,
   "id": "b82db079-a65a-4cef-861d-c25981102ce4",
   "metadata": {},
   "outputs": [
    {
     "name": "stdout",
     "output_type": "stream",
     "text": [
      "   A\n",
      "0  4\n",
      "1  5\n",
      "2  6\n",
      "3  7\n"
     ]
    }
   ],
   "source": [
    "# DataFrame from list with index and column\n",
    "my_df = pd.DataFrame(data=[4, 5, 6, 7], index=range(0, 4), columns=['A'])\n",
    "print(pd.DataFrame(my_df))\n"
   ]
  },
  {
   "cell_type": "code",
   "execution_count": 11,
   "id": "93bd275d-05be-4c1f-813c-4788f45841c2",
   "metadata": {},
   "outputs": [
    {
     "name": "stdout",
     "output_type": "stream",
     "text": [
      "                        0\n",
      "UnitedKingdom      London\n",
      "India            NewDelhi\n",
      "United States  Washington\n",
      "Belgium          Brussels\n"
     ]
    }
   ],
   "source": [
    "# DataFrame from Series\n",
    "my_series = pd.Series({\n",
    "    \"UnitedKingdom\": \"London\",\n",
    "    \"India\": \"NewDelhi\",\n",
    "    \"United States\": \"Washington\",\n",
    "    \"Belgium\": \"Brussels\"\n",
    "})\n",
    "print(pd.DataFrame(my_series))\n"
   ]
  },
  {
   "cell_type": "code",
   "execution_count": 12,
   "id": "a6098500-57b9-424c-8cd0-afc526f6e956",
   "metadata": {},
   "outputs": [
    {
     "name": "stdout",
     "output_type": "stream",
     "text": [
      "(2, 3)\n",
      "2\n"
     ]
    }
   ],
   "source": [
    "# Shape and length of DataFrame\n",
    "df = pd.DataFrame(np.array([[1, 2, 3], [4, 5, 6]]))\n",
    "print(df.shape)\n",
    "print(len(df.index))\n"
   ]
  },
  {
   "cell_type": "code",
   "execution_count": 13,
   "id": "85c07bb1-1733-4563-869c-5817ce2fe436",
   "metadata": {},
   "outputs": [
    {
     "data": {
      "image/png": "[encoded data removed]",
      "text/plain": [
       "<Figure size 640x480 with 1 Axes>"
      ]
     },
     "metadata": {},
     "output_type": "display_data"
    }
   ],
   "source": [
    "import matplotlib.pyplot as plt\n",
    "\n",
    "x = [1, 2, 3]\n",
    "y = [2, 4, 1]\n",
    "\n",
    "plt.plot(x, y)\n",
    "plt.xlabel('x-axis')\n",
    "plt.ylabel('y-axis')\n",
    "plt.title('My first graph')\n",
    "plt.show()\n"
   ]
  },
  {
   "cell_type": "code",
   "execution_count": null,
   "id": "95765a00-d175-4ab3-8709-6ccd1deddec1",
   "metadata": {},
   "outputs": [],
   "source": []
  }
 ],
 "metadata": {
  "kernelspec": {
   "display_name": "Python 3 (ipykernel)",
   "language": "python",
   "name": "python3"
  },
  "language_info": {
   "codemirror_mode": {
    "name": "ipython",
    "version": 3
   },
   "file_extension": ".py",
   "mimetype": "text/x-python",
   "name": "python",
   "nbconvert_exporter": "python",
   "pygments_lexer": "ipython3",
   "version": "3.12.3"
  }
 },
 "nbformat": 4,
 "nbformat_minor": 5
}
